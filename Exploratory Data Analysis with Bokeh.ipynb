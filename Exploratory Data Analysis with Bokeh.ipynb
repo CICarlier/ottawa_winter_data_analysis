{
 "cells": [
  {
   "cell_type": "markdown",
   "metadata": {},
   "source": [
    "# Exploratory Data Analysis with Bokeh\n",
    "This tutorial was originally built for an assignment for an EDA course in my Masters. I continued working on it and added few visualizations and widgets and I was learning more about this library. \n",
    "I also enjoy exploring weather data so this was a good opportunity to learn and have fun."
   ]
  },
  {
   "cell_type": "markdown",
   "metadata": {},
   "source": [
    "##### Context\n",
    "A few years ago I moved to Eastern Canada. I grew up in Southern France, then studied in Paris so my experience of winter was mostly a wet, cloudy weather with temperatures between rarely below 0 degrees celsius, and very little snow. Canada's National Capital was a very different game: it could snow as early as Halloween, and temperatures below -10 were very common. My first winter there (2013-2014), I was told the winter was going to be longer and colder than usual. I invested in good winter gear, went through it and thought if that was it it was not too bad. The next year, the same thing happened and then every year I kept hearing the same words: \"It's going to be the coldest and longest in years.\". My actual impression varied a lot: as I discovered myself a passion for winter activities (skating in particular), I could tell some winters were not cold or long enough as the Rideau Canal ([world's largest naturally frozen skating rink and second longest](https://dailyhive.com/vancouver/rideau-canal-ottawa-worlds-largest-skating-rink) was only open sporadically. This year, [Remembrance Day (November 11th) set a record for the greatest snowfall in the city](https://ottawa.ctvnews.ca/bundle-up-the-coldest-november-13-in-ottawa-history-1.4683046), followed by record cold temperatures the same week, and the forecast for the coldest winter started again. I decided to look at weather data to evaluate which of the past six winters were actually harsher and help my friends and coworkers realize they prepare for the worst every winter, but nature may decide otherwise.\n",
    "\n",
    "For the purpose of this project, we will look at data from October to April (winter technically starts on December 21 but snow and cold start much earlier in Ottawa) for Ottawa's weather station closest to centertown. I cannot include the full winter 2019-2020 data yet, but we can look at snowfall in October for years 2013 to 2019."
   ]
  },
  {
   "cell_type": "markdown",
   "metadata": {},
   "source": [
    "## Visualization Techniques\n"
   ]
  },
  {
   "cell_type": "markdown",
   "metadata": {},
   "source": [
    "### Candlestick charts\n",
    "Candlestick charts are used to display amplitude of changes and data trends from time-series data. It is very commonly use as a financial visualization to describe price movements of a security, derivative or currency; but can also be used to analyze differences in sensor (temperature, humidity...) or weather data. A \"candlestick\" typically represent a day of data and represent four values from this time interval: the opening value (the first value recorded for the day or time interval), the minimum value, the maximum value and the closing value (last value recorded).\n",
    "\n",
    "In this tutorial, we will use the candlestick chart to analyze temperature differences in Ottawa. "
   ]
  },
  {
   "cell_type": "markdown",
   "metadata": {},
   "source": [
    "## Visualization Library \n"
   ]
  },
  {
   "cell_type": "markdown",
   "metadata": {},
   "source": [
    "### Bokeh background and installation\n",
    "[Bokeh](https://docs.bokeh.org/en/latest/) is an interactive visualization library for modern web browsers. It provides elegant, concise construction of versatile graphics, and affords high-performance interactivity over large or streaming datasets. You can create visualizations using Python, then Bokeh’s JavaScript API reads the Python script and renders the plots or charts in addition to handling the UI interactions in the browser (using the Bokeh Server to handle streaming of your data is also an option).\n",
    "Bokeh is a fiscally sponsored project of [NumFOCUS](https://numfocus.org/), a nonprofit dedicated to supporting the open-source scientific computing community.\n",
    "\n",
    "To get set-up, follow [user instructions](https://docs.bokeh.org/en/latest/docs/user_guide/quickstart.html#userguide-quickstart) on Bokeh's community website. "
   ]
  },
  {
   "cell_type": "code",
   "execution_count": 1,
   "metadata": {},
   "outputs": [],
   "source": [
    "#uncomment the line below to check if bokeh is installed (version 1.3.4 or higher is recommended. I am using version 1.4.0 in this tutorial)\n",
    "#pip list | grep -F bokeh\n",
    "\n",
    "#uncomment the line below to install bokeh if not already available\n",
    "#!pip install bokeh\n",
    "#restart the jupyter notebook kernel to start using the newly installed library\n",
    "\n",
    "#to install bokeh in anaconda, uncomment the line below\n",
    "#conda install -c anaconda bokeh"
   ]
  },
  {
   "cell_type": "markdown",
   "metadata": {},
   "source": [
    "### General approach and limitations\n",
    "Bokeh is a declarative framework that integrates seamlessly with Jupyter notebooks. The [Bokeh GitHub](https://github.com/bokeh/bokeh) repository also has a number of example notebooks. \n",
    "Bokeh is actually composed of two library components: \n",
    "- The first component is a JavaScript library, BokehJS, that runs in the browser. This library is responsible for all of the rendering and user interaction. Its input is a collection of declarative JSON objects that comprise a “scenegraph”. The objects in this scenegraph describe everything that BokehJS should handle: what plots and widgets are present and in what arrangement, what tools and renderers and axes the plots will have, etc. These JSON objects are converted into BokehJS Models in the browser, and are rendered by corresponding BokehJS Views.\n",
    "- The second component is a library in Python (or other languages) that can generate the JSON described above. In the Python Bokeh library, this is accomplished at the lowest level by exposing a set of “model” classes that exactly mirror the set of BokehJS Models that are created in the browser. These python model classes know how to validate their content and attributes, and also how to serialize themselves to JSON. \n",
    "\n",
    "##### Why choose bokeh?\n",
    "Bokeh prides itself on being a library for interactive data visualization. Unlike popular counterparts in the Python visualization space, like Matplotlib and Seaborn, Bokeh renders its graphics using HTML and JavaScript. This makes it a great candidate for building web-based dashboards and applications. However, it’s an equally powerful tool for exploring and understanding your data or creating beautiful custom charts for a project or report.\n",
    "\n",
    "\n",
    "##### Limitations\n",
    "Bokeh is limited in the degree of interactivity that a visualization can have. It enables you to chart conventional plots quickly, but present some challenges for more advanced plots or complex interactivity. There is a learning curve around Javascript callbacks and the community is still small and new, which can make it more difficult to find help on online forums such as StackOverflow or Github. I would strongly recommend looking at the references below before getting started. \n",
    "\n",
    "##### Useful references:\n",
    "- [Bokeh Cheat Sheet](https://www.kdnuggets.com/2017/03/bokeh-cheat-sheet.html)\n",
    "- [Interactive Data Vizualisation with Bokeh](https://www.datacamp.com/courses/interactive-data-visualization-with-bokeh)\n",
    "- [Data Visualization on the Browser with Python and Bokeh](https://pythonhow.com/data-visualization-on-the-browser-with-python-and-bokeh/)"
   ]
  },
  {
   "cell_type": "markdown",
   "metadata": {},
   "source": [
    "## Demonstration "
   ]
  },
  {
   "cell_type": "markdown",
   "metadata": {},
   "source": [
    "### Getting the data\n",
    "For this analysis, I downloaded the weather data for the Ottawa CDA station from the [Historical Climate Data site from Environment Canada](https://climate.weather.gc.ca/), as well as the [1981-2010 Climate Normals](https://climate.weather.gc.ca/climate_normals/results_1981_2010_e.html?stnID=4333&autofwd=1) for the same station. For the purpose of this tutorial I have pre-downloaded the daily and hourly files and stored them on github, but you can follow the instructions below to download the data. \n",
    "\n",
    "Instructions for downloading the [daily historical data](https://climate.weather.gc.ca/climate_data/daily_data_e.html?hlyRange=%7C&dlyRange=1889-11-01%7C2019-10-30&mlyRange=1889-01-01%7C2006-12-01&StationID=4333&Prov=ON&urlExtension=_e.html&searchType=stnName&optLimit=yearRange&StartYear=1840&EndYear=2019&selRowPerPage=25&Line=0&searchMethod=contains&Month=10&Day=13&txtStationName=Ottawa+CDA&timeframe=2&Year=2019): \n",
    "- Select the year in the filter section, then click go. \n",
    "- Click \"Download Data\", which will return a csv with daily data for the entire year (the month selected does not matter). \n",
    "- Repeat the operation for all years you are interested in. \n",
    "\n",
    "Instructions for downloading the [hourly historical data](https://climate.weather.gc.ca/climate_data/hourly_data_e.html?hlyRange=2000-10-19%7C2019-11-22&dlyRange=2000-10-19%7C2019-11-22&mlyRange=2003-04-01%7C2006-12-01&StationID=30578&Prov=ON&urlExtension=_e.html&searchType=stnName&optLimit=yearRange&StartYear=1840&EndYear=2019&selRowPerPage=25&Line=1&searchMethod=contains&Month=11&Day=22&txtStationName=Ottawa+CDA&timeframe=1&Year=2019): \n",
    "- Select the year and month in the filter section, then click go. \n",
    "- Click \"Download Data\", which will return a csv with hourly data for the entire month (the day selected does not matter). \n",
    "- Repeat the operation for all years and months you are interested in. \n",
    "- Aggregate hourly data files by year.\n",
    "\n",
    "Another option is to follow the [Get More Data](https://drive.google.com/drive/folders/1WJCDEU34c60IfOnG4rv5EPZ4IhhW9vZH) instructions from the README file to download all data at once. I strongly encourage you to use this option for the hourly data.\n",
    "\n"
   ]
  },
  {
   "cell_type": "markdown",
   "metadata": {},
   "source": [
    "Since our data is organized yearly, I'd suggest to create new datasets covering the months october to April of the next year to compare each winter as opposed to each year as we tend to think of winters months together. "
   ]
  },
  {
   "cell_type": "markdown",
   "metadata": {},
   "source": [
    "## Creating the datasets\n",
    "The code to create the daily and hourly datasets can be found in the [make_datasets.py](Ottawa winter weather data/make_datasets.py) file. "
   ]
  },
  {
   "cell_type": "markdown",
   "metadata": {},
   "source": [
    "### Creating the candlestick chart\n",
    "We want to create an interactive candlestick chart with daily temperatures leveraging the hourly datasets. For each day, we want to know:\n",
    "- the opening temperature (temperature at 12AM)\n",
    "- the closing temperature (temperature at 11PM  - since this is hourly data we do not have the temperature at 11:59)\n",
    "- the minimum temperature\n",
    "- the maximum temperature\n",
    "\n",
    "The major concept of Bokeh is that graphs are built up one layer at a time. We start out by creating a figure, and then we add elements, called glyphs, to the figure. Glyphs can take on many shapes depending on the desired use: circles, lines, patches, bars, arcs, and so on.\n",
    "\n",
    "Code to make the visualization can be found in the [make_visualization.py](Ottawa winter weather data/make_visualization.py) file. \n",
    "To run the visualization - download the data and code files and run the following line in a Terminal:"
   ]
  },
  {
   "cell_type": "code",
   "execution_count": null,
   "metadata": {},
   "outputs": [],
   "source": [
    "#bokeh serve --show make_visualization.py"
   ]
  },
  {
   "cell_type": "markdown",
   "metadata": {},
   "source": [
    "### Adherence to some of [Rule et al's rules for computational analyses](https://journals.plos.org/ploscompbiol/article?id=10.1371/journal.pcbi.1007007). \n",
    "Below are the rules I adhered to in this assignment:\n",
    "- <b>Rule 1 - Tell a story for an audience:</b> In this tutorial our context is the search for winters in the past 6 years (time I lived in Ottawa) that were particularly hard. We are trying to verify when it actually made sense to talk about \"coldest ad longest winter\". \n",
    "- <b>Rule 2 - Document the process, not just the results:</b> All instructions have been included to capture and clean data, making the exercize reproductible by any other student. \n",
    "- <b>Rule 3 - Use cell divisions to make steps clear:</b> The tutorial include separate sections for getting the data, creating the chart then looking at different views of the data. Major sections have been created to separate data gathering from plotting. \n",
    "- <b>Rule 4 - Modularize code:</b> Multiple functions were defined throughout the tutorial to clean and plot the various hourly and daily datasets to avoid duplicating code and making it easy to read and debug.\n",
    "- <b>Rule 5- Record dependencies:</b> The tutorial include instructions for verifying bokeh is installed and installing it if not the case. The library version used for this tutorial was version 1.4.0 as mentioned.\n",
    "- <b>Rule 8 - Share and explain your data:</b> To make the tutorial more easily replicable, data has been uploaded to my github account and is then publicly available to anyone interesting to use this notebook. "
   ]
  }
 ],
 "metadata": {
  "kernelspec": {
   "display_name": "Python 3",
   "language": "python",
   "name": "python3"
  },
  "language_info": {
   "codemirror_mode": {
    "name": "ipython",
    "version": 3
   },
   "file_extension": ".py",
   "mimetype": "text/x-python",
   "name": "python",
   "nbconvert_exporter": "python",
   "pygments_lexer": "ipython3",
   "version": "3.7.3"
  },
  "toc": {
   "base_numbering": 1,
   "nav_menu": {},
   "number_sections": true,
   "sideBar": true,
   "skip_h1_title": false,
   "title_cell": "Table of Contents",
   "title_sidebar": "Contents",
   "toc_cell": false,
   "toc_position": {},
   "toc_section_display": true,
   "toc_window_display": false
  }
 },
 "nbformat": 4,
 "nbformat_minor": 2
}
